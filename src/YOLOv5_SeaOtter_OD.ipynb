{
 "cells": [
  {
   "cell_type": "markdown",
   "metadata": {
    "id": "t6MPjfT5NrKQ"
   },
   "source": [
    "## Sea Otter Object Detection from Images\n",
    "\n",
    "### [YOLOv5](https://github.com/ultralytics/yolov5)\n"
   ]
  },
  {
   "cell_type": "code",
   "execution_count": null,
   "metadata": {
    "colab": {
     "base_uri": "https://localhost:8080/"
    },
    "executionInfo": {
     "elapsed": 1437,
     "status": "ok",
     "timestamp": 1636085733520,
     "user": {
      "displayName": "Carlota Pares Morlans",
      "photoUrl": "https://lh3.googleusercontent.com/a/default-user=s64",
      "userId": "11272388670348041389"
     },
     "user_tz": 420
    },
    "id": "2yT1b0DiUdJp",
    "outputId": "ac2f9d09-255f-4444-f604-dbaf80c2dbbd"
   },
   "outputs": [],
   "source": [
    "# cd to yolov5 folder\n",
    "%cd ~/project/yolov5-master/"
   ]
  },
  {
   "cell_type": "code",
   "execution_count": 5,
   "metadata": {
    "executionInfo": {
     "elapsed": 26289,
     "status": "ok",
     "timestamp": 1636085766524,
     "user": {
      "displayName": "Carlota Pares Morlans",
      "photoUrl": "https://lh3.googleusercontent.com/a/default-user=s64",
      "userId": "11272388670348041389"
     },
     "user_tz": 420
    },
    "id": "wbvMlHd_QwMG"
   },
   "outputs": [],
   "source": [
    "# Required imports\n",
    "import os \n",
    "import seaborn as sns\n",
    "import matplotlib.pyplot as plt\n",
    "from matplotlib import patches, text, patheffects\n",
    "import torch\n",
    "import cv2\n",
    "from IPython.display import Image, clear_output  "
   ]
  },
  {
   "cell_type": "code",
   "execution_count": 6,
   "metadata": {
    "colab": {
     "base_uri": "https://localhost:8080/"
    },
    "executionInfo": {
     "elapsed": 29,
     "status": "ok",
     "timestamp": 1636085766527,
     "user": {
      "displayName": "Carlota Pares Morlans",
      "photoUrl": "https://lh3.googleusercontent.com/a/default-user=s64",
      "userId": "11272388670348041389"
     },
     "user_tz": 420
    },
    "id": "FIpn9z4cS53S",
    "outputId": "8f2184e1-7731-48b1-914c-46d4ef4453bb"
   },
   "outputs": [
    {
     "name": "stdout",
     "output_type": "stream",
     "text": [
      "Setup complete. Using torch 1.9.0+cu111 (Tesla K80)\n"
     ]
    }
   ],
   "source": [
    "# \n",
    "clear_output()\n",
    "print(f\"Setup complete. Using torch {torch.__version__} ({torch.cuda.get_device_properties(0).name if torch.cuda.is_available() else 'CPU'})\")"
   ]
  },
  {
   "cell_type": "markdown",
   "metadata": {
    "id": "fqgeVvvNqLuW"
   },
   "source": [
    "\n",
    "\n",
    "### Transfer learning"
   ]
  },
  {
   "cell_type": "code",
   "execution_count": null,
   "metadata": {
    "colab": {
     "base_uri": "https://localhost:8080/"
    },
    "id": "1NcFxRcFdJ_O",
    "outputId": "463d5546-1c8d-426d-8fec-ed077d1fd793"
   },
   "outputs": [],
   "source": [
    "# Use yolov5s weights\n",
    "!python train.py --img 768 --batch 32 --epochs 200 --data otters.yaml --weights yolov5s.pt --cache --single-cls --cfg yolov5-small_obj.yaml"
   ]
  },
  {
   "cell_type": "markdown",
   "metadata": {},
   "source": [
    "### Hyperparameter tuning"
   ]
  },
  {
   "cell_type": "code",
   "execution_count": null,
   "metadata": {},
   "outputs": [],
   "source": [
    "!python train.py --img 768 --batch 32 --epochs 10 --data otters.yaml --weights runs/train/exp88/weights/best.pt --cache --single-cls --cfg yolov5-small_obj.yaml --evolve 100"
   ]
  },
  {
   "cell_type": "markdown",
   "metadata": {},
   "source": [
    "### Retraining"
   ]
  },
  {
   "cell_type": "code",
   "execution_count": null,
   "metadata": {},
   "outputs": [],
   "source": [
    "!python train.py --img 768 --batch 32 --epochs 100 --data otters.yaml --weights runs/train/exp88/weights/best.pt --cache --single-cls --cfg yolov5-small_obj.yaml --hyp hyp_evolve.yaml"
   ]
  },
  {
   "cell_type": "markdown",
   "metadata": {},
   "source": [
    "### Test set performance"
   ]
  },
  {
   "cell_type": "code",
   "execution_count": null,
   "metadata": {},
   "outputs": [],
   "source": [
    "# Get test performance metrics\n",
    "!python val.py --weights best.pt --img 768 --save-txt --data otters.yaml"
   ]
  },
  {
   "cell_type": "code",
   "execution_count": null,
   "metadata": {},
   "outputs": [],
   "source": [
    "# Get test predicted bounding boxes\n",
    "!python detect.py --weights best.pt --img 768 --save-txt --source ../sea_otter_dataset/dataset_otters_clusters_background/images/test/"
   ]
  }
 ],
 "metadata": {
  "accelerator": "GPU",
  "colab": {
   "collapsed_sections": [],
   "name": "YOLOv5_SeaOtter_OD.ipynb",
   "provenance": []
  },
  "kernelspec": {
   "display_name": "Python 3",
   "language": "python",
   "name": "python3"
  },
  "language_info": {
   "codemirror_mode": {
    "name": "ipython",
    "version": 3
   },
   "file_extension": ".py",
   "mimetype": "text/x-python",
   "name": "python",
   "nbconvert_exporter": "python",
   "pygments_lexer": "ipython3",
   "version": "3.8.8"
  }
 },
 "nbformat": 4,
 "nbformat_minor": 1
}
