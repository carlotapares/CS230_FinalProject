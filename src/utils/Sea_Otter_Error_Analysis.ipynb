{
 "cells": [
  {
   "cell_type": "code",
   "execution_count": null,
   "metadata": {
    "colab": {
     "base_uri": "https://localhost:8080/"
    },
    "executionInfo": {
     "elapsed": 665,
     "status": "ok",
     "timestamp": 1637045985498,
     "user": {
      "displayName": "Carlota Pares Morlans",
      "photoUrl": "https://lh3.googleusercontent.com/a/default-user=s64",
      "userId": "11272388670348041389"
     },
     "user_tz": 480
    },
    "id": "bqc0nM_oAGse",
    "outputId": "10a68eb7-7439-41f8-e6cd-8bc5cce256b4"
   },
   "outputs": [],
   "source": [
    "# cd to yolov5 folder\n",
    "%cd ~/project/yolov5-master"
   ]
  },
  {
   "cell_type": "code",
   "execution_count": null,
   "metadata": {
    "executionInfo": {
     "elapsed": 28114,
     "status": "ok",
     "timestamp": 1637046023571,
     "user": {
      "displayName": "Carlota Pares Morlans",
      "photoUrl": "https://lh3.googleusercontent.com/a/default-user=s64",
      "userId": "11272388670348041389"
     },
     "user_tz": 480
    },
    "id": "U9ajgxd2AN8F"
   },
   "outputs": [],
   "source": [
    "# Required imports\n",
    "import os \n",
    "import seaborn as sns\n",
    "import matplotlib.pyplot as plt\n",
    "from matplotlib import patches, text, patheffects\n",
    "import torch\n",
    "import cv2\n",
    "import numpy as np\n",
    "from IPython.display import Image, clear_output\n",
    "import random\n",
    "import shutil  "
   ]
  },
  {
   "cell_type": "code",
   "execution_count": null,
   "metadata": {
    "colab": {
     "base_uri": "https://localhost:8080/"
    },
    "executionInfo": {
     "elapsed": 21,
     "status": "ok",
     "timestamp": 1636852477501,
     "user": {
      "displayName": "Carlota Pares Morlans",
      "photoUrl": "https://lh3.googleusercontent.com/a/default-user=s64",
      "userId": "11272388670348041389"
     },
     "user_tz": 480
    },
    "id": "HJxqQO6HAOSl",
    "outputId": "93e1771c-3eec-40dc-84fe-63da355eea43"
   },
   "outputs": [],
   "source": [
    "# \n",
    "clear_output()\n",
    "print(f\"Setup complete. Using torch {torch.__version__} ({torch.cuda.get_device_properties(0).name if torch.cuda.is_available() else 'CPU'})\")"
   ]
  },
  {
   "cell_type": "code",
   "execution_count": null,
   "metadata": {
    "id": "i4_NnJH-CWnC"
   },
   "outputs": [],
   "source": [
    "def plot_sample_image(img_path, corr_lab, incorr_lab, miss_lab, gt_lab):\n",
    "    img = cv2.imread(img_path)\n",
    "    img = cv2.cvtColor(img, cv2.COLOR_RGB2BGR)\n",
    "\n",
    "    fig, ax = plt.subplots()\n",
    "    ax.imshow(img)\n",
    "    plt.axis('off')\n",
    "\n",
    "    for box in corr_lab:\n",
    "        x = (box[0]-box[2]*0.5)*img.shape[1]\n",
    "        y = (box[1]-box[3]*0.5)*img.shape[0]\n",
    "        w = box[2] * img.shape[1]\n",
    "        h = box[3] * img.shape[0]\n",
    "        ax.add_patch(patches.Rectangle((x,y),w,h, fill=False, edgecolor='green', lw=1))\n",
    "\n",
    "    for box in incorr_lab:\n",
    "        x = (box[0]-box[2]*0.5)*img.shape[1]\n",
    "        y = (box[1]-box[3]*0.5)*img.shape[0]\n",
    "        w = box[2] * img.shape[1]\n",
    "        h = box[3] * img.shape[0]\n",
    "        ax.add_patch(patches.Rectangle((x,y),w,h, fill=False, edgecolor='red', lw=1))\n",
    "\n",
    "    for box in miss_lab:\n",
    "        x = (box[0]-box[2]*0.5)*img.shape[1]\n",
    "        y = (box[1]-box[3]*0.5)*img.shape[0]\n",
    "        w = box[2] * img.shape[1]\n",
    "        h = box[3] * img.shape[0]\n",
    "        ax.add_patch(patches.Rectangle((x,y),w,h, fill=False, edgecolor='blue', lw=1))\n",
    "\n",
    "    fn = img_path.split('/')[-1].split('.')[0]\n",
    "    plt.savefig('/home/ubuntu/project/Code/out/' + fn + '.png',dpi=600)\n",
    "    #plt.show()"
   ]
  },
  {
   "cell_type": "code",
   "execution_count": null,
   "metadata": {
    "id": "veI8MaSaC5cH"
   },
   "outputs": [],
   "source": [
    "PRED_img_path = \"/home/ubuntu/project/yolov5-master/runs/detect/exp183/\"\n",
    "PRED_label_path = '/home/ubuntu/project/yolov5-master/runs/detect/exp183/labels/'\n",
    "\n",
    "GT_label_path = \"/home/ubuntu/project/sea_otter_dataset/dataset_otters_clusters_background/labels/validation/\"\n",
    "GT_img_path = \"/home/ubuntu/project/sea_otter_dataset/dataset_otters_clusters_background/images/validation/\""
   ]
  },
  {
   "cell_type": "code",
   "execution_count": null,
   "metadata": {
    "id": "7pZUG3OMcfRY"
   },
   "outputs": [],
   "source": [
    "def xywhn2xyxy(x, w=1024, h=682):\n",
    "    # Convert nx4 box from [x, y, w, h] normalized to [x1, y1, x2, y2] where xy1=top-left, xy2=bottom-right\n",
    "    x = np.asarray(x)\n",
    "    y = np.copy(x)\n",
    "    y[0] = w * (x[0] - x[2] / 2)  # top left x\n",
    "    y[1] = h * (x[1] - x[3] / 2)  # top left y\n",
    "    y[2] = w * (x[0] + x[2] / 2)  # bottom right x\n",
    "    y[3] = h * (x[1] + x[3] / 2)  # bottom right y\n",
    "    return y"
   ]
  },
  {
   "cell_type": "code",
   "execution_count": null,
   "metadata": {
    "id": "2Bn5tNW1kXyL"
   },
   "outputs": [],
   "source": [
    "def xyxy2xywhn(x, w=1024, h=682):\n",
    "    # Convert nx4 box from [x1, y1, x2, y2] to [x, y, w, h] normalized where xy1=top-left, xy2=bottom-right\n",
    "    x = np.asarray(x)\n",
    "    y = np.copy(x)\n",
    "    y = x.clone() if isinstance(x, torch.Tensor) else np.copy(x)\n",
    "    y[0] = ((x[0] + x[2]) / 2) / w  # x center\n",
    "    y[1] = ((x[1] + x[3]) / 2) / h  # y center\n",
    "    y[2] = (x[2] - x[0]) / w  # width\n",
    "    y[3] = (x[3] - x[1]) / h  # height\n",
    "    return y"
   ]
  },
  {
   "cell_type": "code",
   "execution_count": null,
   "metadata": {
    "id": "hsukpgEYP75k"
   },
   "outputs": [],
   "source": [
    "def box_iou(box, gtBoxes):\n",
    "    \"\"\"\n",
    "    Compute max intersection over union of a bounding box and \n",
    "    a list of bounding boxes\n",
    "    Arguments:\n",
    "      boxA : np.array of shape (1,4)\n",
    "      boxB : np.array of shape (1,4)\n",
    "    Returns:\n",
    "      iou : float\n",
    "    \"\"\"\n",
    "    max_iou = 0\n",
    "\n",
    "    for b in gtBoxes:\n",
    "        xA = max(box[0], b[0])\n",
    "        yA = max(box[1], b[1])\n",
    "        xB = min(box[2], b[2])\n",
    "        yB = min(box[3], b[3])\n",
    "\n",
    "        iA = abs(max((xB - xA, 0)) * max((yB - yA), 0))\n",
    "        if iA == 0:\n",
    "            continue\n",
    "\n",
    "        a1 = abs((box[2] - box[0]) * (box[3] - box[1]))\n",
    "        a2 = abs((b[2] - b[0]) * (b[3] - b[1]))\n",
    "\n",
    "        iou = iA / float(a1 + a2 - iA)\n",
    "        if iou  > max_iou:\n",
    "            max_iou = iou\n",
    "\n",
    "    return max_iou"
   ]
  },
  {
   "cell_type": "markdown",
   "metadata": {},
   "source": [
    "### Confusion Matrix + Image Analysis"
   ]
  },
  {
   "cell_type": "code",
   "execution_count": null,
   "metadata": {
    "colab": {
     "base_uri": "https://localhost:8080/",
     "height": 1000,
     "output_embedded_package_id": "1iJytf3mqt_ppweITp0TWef7Cfp1SlsSm"
    },
    "executionInfo": {
     "elapsed": 181569,
     "status": "ok",
     "timestamp": 1636877957287,
     "user": {
      "displayName": "Carlota Pares Morlans",
      "photoUrl": "https://lh3.googleusercontent.com/a/default-user=s64",
      "userId": "11272388670348041389"
     },
     "user_tz": 480
    },
    "id": "e-ygpJCxC5gB",
    "outputId": "5ea41084-b01d-427f-9bb8-2ef38f999388"
   },
   "outputs": [],
   "source": [
    "TP, TN, FP, FN = 0, 0, 0, 0\n",
    "iou_th = 0.2\n",
    "total_pred_labels = 0\n",
    "total_gt_labels = 0\n",
    "\n",
    "# Iterate on all images\n",
    "for img in os.listdir(GT_img_path):\n",
    "    if '.jpeg' not in img and '.png' not in img:\n",
    "        continue\n",
    "    txt = img.split('.')[0] + '.txt'\n",
    "\n",
    "    true_labels = open(GT_label_path + txt,'r').read().splitlines()\n",
    "    total_gt_labels += len(true_labels)\n",
    "    try:\n",
    "        pred_labels = open(PRED_label_path + txt,'r').read().splitlines()\n",
    "        total_pred_labels += len(pred_labels)\n",
    "    except:\n",
    "        # Labels in ground truth but not in predicted\n",
    "        FN += len(true_labels)\n",
    "        continue\n",
    "    tl = []\n",
    "    for lab in true_labels:\n",
    "        tl.append(xywhn2xyxy(list(map(float,lab.split(' ')[1:]))))\n",
    "\n",
    "    pl = []\n",
    "    for lab in pred_labels:\n",
    "        pl.append(xywhn2xyxy(list(map(float,lab.split(' ')[1:]))))\n",
    "\n",
    "    corr = []\n",
    "    incorr = []\n",
    "    miss = []\n",
    "    gt = []\n",
    "    for lab in pl:\n",
    "        iou = box_iou(lab, tl)\n",
    "        if iou > iou_th:\n",
    "            corr.append(xyxy2xywhn(lab))\n",
    "            TP += 1\n",
    "        else:\n",
    "            incorr.append(xyxy2xywhn(lab))\n",
    "            FP += 1\n",
    "\n",
    "    for lab in tl:\n",
    "        iou = box_iou(lab, pl)\n",
    "        gt.append(xyxy2xywhn(lab))\n",
    "        if iou < iou_th:\n",
    "            miss.append(xyxy2xywhn(lab))\n",
    "            FN += 1\n",
    "\n",
    "    if len(incorr) != 0 or len(miss) != 0:\n",
    "        plot_sample_image(GT_img_path + img, corr, incorr, miss, gt)"
   ]
  },
  {
   "cell_type": "code",
   "execution_count": null,
   "metadata": {
    "colab": {
     "base_uri": "https://localhost:8080/",
     "height": 313
    },
    "executionInfo": {
     "elapsed": 423,
     "status": "ok",
     "timestamp": 1636877973217,
     "user": {
      "displayName": "Carlota Pares Morlans",
      "photoUrl": "https://lh3.googleusercontent.com/a/default-user=s64",
      "userId": "11272388670348041389"
     },
     "user_tz": 480
    },
    "id": "DYE-T7QWD096",
    "outputId": "4a3ba67d-0a21-4819-e25c-fc6b83d2ab02"
   },
   "outputs": [],
   "source": [
    "cm_data = [[TP, FP], [FN, TN]]\n",
    "print('Precision', TP/(TP + FP))\n",
    "print('Recall', TP/(TP + FN))\n",
    "sns.heatmap(cm_data, annot=True, cmap='Blues', fmt='d', xticklabels=['Otters', 'Background'], yticklabels=['Otters', 'Background'])\n",
    "plt.xlabel('Actual')\n",
    "plt.ylabel('Predicted')\n",
    "plt.show()"
   ]
  },
  {
   "cell_type": "code",
   "execution_count": null,
   "metadata": {
    "id": "nswblPYWC5ko"
   },
   "outputs": [],
   "source": []
  },
  {
   "cell_type": "markdown",
   "metadata": {},
   "source": [
    "### Create Image Clusters"
   ]
  },
  {
   "cell_type": "code",
   "execution_count": null,
   "metadata": {
    "executionInfo": {
     "elapsed": 150,
     "status": "ok",
     "timestamp": 1637046024578,
     "user": {
      "displayName": "Carlota Pares Morlans",
      "photoUrl": "https://lh3.googleusercontent.com/a/default-user=s64",
      "userId": "11272388670348041389"
     },
     "user_tz": 480
    },
    "id": "xS3nt_-gDtYN"
   },
   "outputs": [],
   "source": [
    "label_path = \"/content/drive/MyDrive/SeaOtterDrone2021/sea_otter_dataset/dataset_otters_clusters/labels/\"\n",
    "img_path = \"/content/drive/MyDrive/SeaOtterDrone2021/sea_otter_dataset/dataset_otters_clusters/images/\""
   ]
  },
  {
   "cell_type": "code",
   "execution_count": null,
   "metadata": {
    "colab": {
     "base_uri": "https://localhost:8080/"
    },
    "executionInfo": {
     "elapsed": 9414,
     "status": "ok",
     "timestamp": 1636920440462,
     "user": {
      "displayName": "Carlota Pares Morlans",
      "photoUrl": "https://lh3.googleusercontent.com/a/default-user=s64",
      "userId": "11272388670348041389"
     },
     "user_tz": 480
    },
    "id": "ZW_Psn18GiLd",
    "outputId": "77979550-1046-4be2-ca0a-eb5fe2346a32"
   },
   "outputs": [],
   "source": [
    "!pip install -q image-similarity-measures"
   ]
  },
  {
   "cell_type": "code",
   "execution_count": null,
   "metadata": {
    "id": "RXyxJe4mUZo_"
   },
   "outputs": [],
   "source": [
    "# Idea from https://towardsdatascience.com/how-to-cluster-images-based-on-visual-similarity-cd6e7209fe34\n",
    "from keras.preprocessing.image import load_img \n",
    "from keras.preprocessing.image import img_to_array \n",
    "from keras.applications.vgg16 import preprocess_input \n",
    "from keras.applications.vgg16 import VGG16 \n",
    "from keras.models import Model\n",
    "from sklearn.cluster import KMeans\n",
    "from sklearn.decomposition import PCA"
   ]
  },
  {
   "cell_type": "code",
   "execution_count": null,
   "metadata": {
    "id": "QFoEQm1QVweW"
   },
   "outputs": [],
   "source": [
    "def extract_features(file, model):\n",
    "    img = load_img(file, target_size=(224,224))\n",
    "    img = np.array(img) \n",
    "    reshaped_img = img.reshape(1,224,224,3) \n",
    "    imgx = preprocess_input(reshaped_img)\n",
    "    features = model.predict(imgx, use_multiprocessing=True)\n",
    "    return features"
   ]
  },
  {
   "cell_type": "code",
   "execution_count": null,
   "metadata": {
    "id": "x0NimnNqWhzW"
   },
   "outputs": [],
   "source": [
    "def view_cluster(cluster):\n",
    "    plt.figure(figsize = (25,25));\n",
    "    files = groups[cluster]\n",
    "    \n",
    "    for index, file in enumerate(files):\n",
    "        plt.subplot(10,10,index+1);\n",
    "        img = load_img(img_path + file)\n",
    "        img = np.array(img)\n",
    "        plt.imshow(img)\n",
    "        plt.axis('off')\n",
    "    plt.show()\n",
    "    print('__________________________________')"
   ]
  },
  {
   "cell_type": "code",
   "execution_count": null,
   "metadata": {
    "colab": {
     "base_uri": "https://localhost:8080/",
     "height": 405
    },
    "executionInfo": {
     "elapsed": 1142133,
     "status": "ok",
     "timestamp": 1636921985863,
     "user": {
      "displayName": "Carlota Pares Morlans",
      "photoUrl": "https://lh3.googleusercontent.com/a/default-user=s64",
      "userId": "11272388670348041389"
     },
     "user_tz": 480
    },
    "id": "wGMEBWZUTf2I",
    "outputId": "c8a1cd80-dfad-465f-9004-cd0a5a2031a8"
   },
   "outputs": [],
   "source": [
    "data = {}\n",
    "\n",
    "model = VGG16()\n",
    "model = Model(inputs=model.inputs, outputs=model.layers[-2].output)\n",
    "\n",
    "for filename in os.listdir(img_path):\n",
    "    if '.jpeg' in filename:\n",
    "        data[filename] = extract_features(img_path + filename, model)\n",
    "\n",
    "filenames = np.array(list(data.keys()))\n",
    "feat = np.array(list(data.values()))\n",
    "feat = feat.reshape(-1,4096)\n",
    "\n",
    "pca = PCA(n_components=50, random_state=22)\n",
    "pca.fit(feat)\n",
    "x = pca.transform(feat)\n",
    "\n",
    "sse = []\n",
    "list_k = list(range(3, 50))\n",
    "\n",
    "for k in list_k:\n",
    "    km = KMeans(n_clusters=k, random_state=22, n_jobs=-1)\n",
    "    km.fit(x)\n",
    "    sse.append(km.inertia_)\n",
    "\n",
    "plt.figure(figsize=(6, 6))\n",
    "plt.plot(list_k, sse)\n",
    "plt.xlabel(r'Number of clusters *k*')\n",
    "plt.ylabel('Sum of squared distance');"
   ]
  },
  {
   "cell_type": "code",
   "execution_count": null,
   "metadata": {
    "id": "m0n_onFPXK1n"
   },
   "outputs": [],
   "source": [
    "kmeans = KMeans(n_clusters=50,n_jobs=-1, random_state=22)\n",
    "kmeans.fit(x)\n",
    "\n",
    "groups = {}\n",
    "for file, cluster in zip(filenames,kmeans.labels_):\n",
    "    if cluster not in groups.keys():\n",
    "        groups[cluster] = []\n",
    "        groups[cluster].append(file)\n",
    "    else:\n",
    "        groups[cluster].append(file)"
   ]
  },
  {
   "cell_type": "code",
   "execution_count": null,
   "metadata": {
    "id": "aiPMovlc3k_J"
   },
   "outputs": [],
   "source": [
    "def most_common(lst):\n",
    "    return max(set(lst), key=lst.count)"
   ]
  },
  {
   "cell_type": "code",
   "execution_count": null,
   "metadata": {
    "colab": {
     "base_uri": "https://localhost:8080/",
     "height": 1000,
     "output_embedded_package_id": "1uiVrR8qT5_dfhGfYZGqVURAc1eR0_bJM"
    },
    "executionInfo": {
     "elapsed": 153257,
     "status": "ok",
     "timestamp": 1636934425052,
     "user": {
      "displayName": "Carlota Pares Morlans",
      "photoUrl": "https://lh3.googleusercontent.com/a/default-user=s64",
      "userId": "11272388670348041389"
     },
     "user_tz": 480
    },
    "id": "FmoFdRj1dJuq",
    "outputId": "414c7e66-d6bf-47ba-ec78-db9657a425a8"
   },
   "outputs": [],
   "source": [
    "to_modify = []\n",
    "for k,v in groups.items():\n",
    "    print('Cluster:', k, len(v))\n",
    "    view_cluster(k)\n",
    "    if len(v) > 1:\n",
    "        lab_size = []\n",
    "    for im in v:\n",
    "        labels = open(label_path + im.split('.')[0]+'.txt','r').read().splitlines()\n",
    "        lab_size.append(len(labels))\n",
    "    mc = most_common(lab_size)\n",
    "    for i,s in enumerate(lab_size):\n",
    "        print(mc, s, v[i])\n",
    "        if s < mc:\n",
    "            to_modify.append((mc-s,v[i]))"
   ]
  },
  {
   "cell_type": "code",
   "execution_count": null,
   "metadata": {
    "colab": {
     "base_uri": "https://localhost:8080/"
    },
    "executionInfo": {
     "elapsed": 154,
     "status": "ok",
     "timestamp": 1636935370511,
     "user": {
      "displayName": "Carlota Pares Morlans",
      "photoUrl": "https://lh3.googleusercontent.com/a/default-user=s64",
      "userId": "11272388670348041389"
     },
     "user_tz": 480
    },
    "id": "2JKnoOhh5diR",
    "outputId": "2d09100f-040f-4292-e8bb-cc9855329117"
   },
   "outputs": [],
   "source": [
    "cl_len = []\n",
    "for k,v in groups.items():\n",
    "    cl_len.append(len(v))\n",
    "print(np.mean(cl_len), len(cl_len))\n",
    "print(cl_len)"
   ]
  },
  {
   "cell_type": "code",
   "execution_count": null,
   "metadata": {
    "colab": {
     "base_uri": "https://localhost:8080/"
    },
    "executionInfo": {
     "elapsed": 148,
     "status": "ok",
     "timestamp": 1636936790094,
     "user": {
      "displayName": "Carlota Pares Morlans",
      "photoUrl": "https://lh3.googleusercontent.com/a/default-user=s64",
      "userId": "11272388670348041389"
     },
     "user_tz": 480
    },
    "id": "JjkXUDoj81eu",
    "outputId": "92bd9278-62d8-47b1-d8af-5fe53e1557d7"
   },
   "outputs": [],
   "source": [
    "random.seed(6)\n",
    "non_train_cl = random.sample(range(0, 50), 8)\n",
    "val_cl = non_train_cl[:4]\n",
    "test_cl = non_train_cl[4:]\n",
    "\n",
    "train_cl = list(set(np.arange(0,50))-set(val_cl)-set(test_cl))\n",
    "print(val_cl)\n",
    "print(test_cl)\n",
    "print(len(train_cl),train_cl)\n",
    "\n",
    "s = 0\n",
    "for c in val_cl:\n",
    "    s += len(groups[c])\n",
    "print(s)\n",
    "\n",
    "s = 0\n",
    "for c in test_cl:\n",
    "    s += len(groups[c])\n",
    "print(s)"
   ]
  },
  {
   "cell_type": "code",
   "execution_count": null,
   "metadata": {
    "id": "LUdTQxyvAb12"
   },
   "outputs": [],
   "source": [
    "train_path = \"train/\"\n",
    "val_path = \"validation/\"\n",
    "test_path = \"test/\"\n",
    "\n",
    "for c in train_cl:\n",
    "    for filename in groups[c]:\n",
    "        shutil.move(img_path + filename, img_path + train_path)\n",
    "\n",
    "for c in val_cl:\n",
    "    for filename in groups[c]:\n",
    "        shutil.move(img_path + filename, img_path + val_path)\n",
    "\n",
    "for c in test_cl:\n",
    "    for filename in groups[c]:\n",
    "        shutil.move(img_path + filename, img_path + test_path)    "
   ]
  },
  {
   "cell_type": "code",
   "execution_count": null,
   "metadata": {
    "id": "noMwJyREDp0b"
   },
   "outputs": [],
   "source": [
    "train_path = \"train/\"\n",
    "val_path = \"validation/\"\n",
    "test_path = \"test/\"\n",
    "\n",
    "for c in train_cl:\n",
    "    for filename in groups[c]:\n",
    "        filename = filename.split('.')[0] + '.txt'\n",
    "        shutil.move(label_path + filename, label_path + train_path)\n",
    "\n",
    "for c in val_cl:\n",
    "    for filename in groups[c]:\n",
    "        filename = filename.split('.')[0] + '.txt'\n",
    "        shutil.move(label_path + filename, label_path + val_path)\n",
    "\n",
    "for c in test_cl:\n",
    "    for filename in groups[c]:\n",
    "        filename = filename.split('.')[0] + '.txt'\n",
    "        shutil.move(label_path + filename, img_path + test_path)   "
   ]
  }
 ],
 "metadata": {
  "colab": {
   "authorship_tag": "ABX9TyOegqp6R2m78zxR7pQzvvk8",
   "collapsed_sections": [],
   "name": "Sea_Otter_Error_Analysis.ipynb",
   "provenance": []
  },
  "kernelspec": {
   "display_name": "Python 3",
   "language": "python",
   "name": "python3"
  },
  "language_info": {
   "codemirror_mode": {
    "name": "ipython",
    "version": 3
   },
   "file_extension": ".py",
   "mimetype": "text/x-python",
   "name": "python",
   "nbconvert_exporter": "python",
   "pygments_lexer": "ipython3",
   "version": "3.8.8"
  }
 },
 "nbformat": 4,
 "nbformat_minor": 4
}
